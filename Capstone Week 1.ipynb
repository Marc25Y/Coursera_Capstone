{
    "nbformat_minor": 1, 
    "cells": [
        {
            "source": "# Capstone Project - The Battle of Neighborhoods\n##### Week 1", 
            "cell_type": "markdown", 
            "metadata": {
                "collapsed": true
            }
        }, 
        {
            "source": "### Introduction", 
            "cell_type": "markdown", 
            "metadata": {}
        }, 
        {
            "source": "##### Business Problem\n\nA foreign caf\u00e9 chain company wants to expand its business into new cities and therefore plans to introduce its brand to Cologne. \nThey seek to follow a very aggressive expansion strategy and plan to open several new locations in short succession. To achieve this, \nthey need a list with possible locations with a high suitability for their new cafe locations. Their plan is to be highly visible to customers \nby being as near as they could get to them to attract their attention.<br>\n<br>\nThe idea to realize this is to open the cafes in the very near vicinity of tram stations. They exclude bus stops since busses are usually not \ncarrying so much passengers than trams. Hence, identifying tram stations in the city with a high suitability for opening a new caf\u00e9 nearby is the main goal.<br>\n<br>\nThey assume that the customer density per caf\u00e9 location/tram station will increase with every tram line stopping at the station and with every \nuniversity or school site in the vicinity. They further expect, that their potential share on the customer base will decrease with every additional \ncompetitor in the vicinity of the station. Based on this assumption they plan to calculate a \u201csuitability index\u201d indicating if a station us suitable \nto open one of their cafes or not.", 
            "cell_type": "markdown", 
            "metadata": {}
        }, 
        {
            "source": "##### Audience of this analysis\nRelevant persons for making the decision on how to further expand into the city of Cologne and help them with the business problem at hand.", 
            "cell_type": "markdown", 
            "metadata": {}
        }, 
        {
            "source": "### Data", 
            "cell_type": "markdown", 
            "metadata": {}
        }, 
        {
            "source": "##### Open Street Map\n    \nhttp://nominatim.openstreetmap.org<br>\n<br>\nDetermine the center of Cologne as the starting point by its longitudinal and latitudinal coordinates.", 
            "cell_type": "markdown", 
            "metadata": {}
        }, 
        {
            "source": "##### Open data archive of the public transportation company KVB from Cologne\nhttps://online-service.kvb-koeln.de<br>\n<br>\nData set<br>\nhttps://online-service.kvb-koeln.de/geoserver/OPENDATA/ows?service=WFS&version=1.0.0&request=GetFeature&typeName=ODENDATA:haltestellen&outputFormat=csv<br>\n<br>\nThe dataset has several hundred of entries of all kinds of public transport stations in and around Cologne which are serviced by KVB. The data first needs to be filtered for the tram stations we are interested in. Afterwards the data needs further refinement to get the needed information like station names, coordinates of the stations or numbers of tram lines servicing it.<br>\n<br>\nThe data will look like the following example", 
            "cell_type": "markdown", 
            "metadata": {}
        }, 
        {
            "source": "ID | FID | ASS | Name | Kurzname | Haltestellenbereich | Koordinate | Betriebsbereich | Linien\n--- | --- | --- | --- | --- | --- | --- | --- | ---\n0 | haltestellen.fid-5764443a_16b50a638a9_-5a8f | 111 | Heumarkt | HMG | 1 | POINT (6.9604570988 50.9357563921) | STRAB | 1 7 9\n1 | haltestellen.fid-5764443a_16b50a638a9_-5a8e | 112 | Heumarkt | HMG | 1 | POINT (6.9595737676 50.9357045307) | STRAB | 1 7 9\n2 | haltestellen.fid-5764443a_16b50a638a9_-5a8d | 113 | Heumarkt | HMG | 1 | POINT (6.9574528147 50.9351045185) | STRAB | 5", 
            "cell_type": "markdown", 
            "metadata": {}
        }, 
        {
            "source": "##### Foursquare\nhttps://api.foursquare.com<br>\n<br>\nFrom Foursquare the data on possible competition around tram stations is obtained. As relevant competition can be seen bakeries and other cafes. Further we fetch data on university and school buildings around the station (called potential high customer sites) to determine if there is an additional potential customer base added to the occasional customers searching for a caf\u00e9 to rest and enjoy a good coffee.<br>\n<br>\nFrom this data the \u201csuitability index\u201d for opening a new caf\u00e9 near this particular station will be derived and used as a decision base.", 
            "cell_type": "markdown", 
            "metadata": {}
        }, 
        {
            "source": "All data will then be connected to obtain the most promising stations with a high suitability for our new cafes \u2013 meaning a big customer base without much competition. This refined results will then be displayed on a map of Cologne to give an easy to understand and handle tool for the decision makers to select the best locations for their expansion.", 
            "cell_type": "markdown", 
            "metadata": {}
        }, 
        {
            "execution_count": null, 
            "cell_type": "code", 
            "metadata": {}, 
            "outputs": [], 
            "source": ""
        }
    ], 
    "metadata": {
        "kernelspec": {
            "display_name": "Python 3.5", 
            "name": "python3", 
            "language": "python"
        }, 
        "language_info": {
            "mimetype": "text/x-python", 
            "nbconvert_exporter": "python", 
            "version": "3.5.5", 
            "name": "python", 
            "file_extension": ".py", 
            "pygments_lexer": "ipython3", 
            "codemirror_mode": {
                "version": 3, 
                "name": "ipython"
            }
        }
    }, 
    "nbformat": 4
}